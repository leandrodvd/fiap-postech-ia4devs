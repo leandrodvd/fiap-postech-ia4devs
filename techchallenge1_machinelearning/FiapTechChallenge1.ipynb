{
  "nbformat": 4,
  "nbformat_minor": 0,
  "metadata": {
    "colab": {
      "provenance": []
    },
    "kernelspec": {
      "name": "python3",
      "display_name": "Python 3"
    },
    "language_info": {
      "name": "python"
    }
  },
  "cells": [
    {
      "cell_type": "markdown",
      "source": [
        "# Pós Tech IA para Devs - 2024\n",
        "\n",
        "## Tech Challenge 1\n",
        "\n",
        "### Objetivo:\n",
        "\n",
        "Prever o valor dos custos médicos individuais cobrados pelo seguro de saúde\n",
        "\n",
        "### Dataset:\n",
        "Dataset obtido do kaggle em: https://www.kaggle.com/datasets/mirichoi0218/insurance\n",
        "\n",
        "arquivo insurance.csv com 16kb de dados contendo\n",
        "\n",
        "* age: age of primary beneficiary\n",
        "* sex: insurance contractor gender, female, male\n",
        "* bmi: Body mass index, providing an understanding of body, weights that are relatively high or low relative to height,\n",
        "objective index of body weight (kg / m ^ 2) using the ratio of height to weight, ideally 18.5 to 24.9\n",
        "* children: Number of children covered by health insurance / Number of dependents\n",
        "* smoker: Smoking\n",
        "* region: the beneficiary's residential area in the US, northeast, southeast, southwest, northwest.\n",
        "* charges: Individual medical costs billed by health insurance"
      ],
      "metadata": {
        "id": "o0dl4batr_Bm"
      }
    },
    {
      "cell_type": "markdown",
      "source": [
        "# 1. Importando libs"
      ],
      "metadata": {
        "id": "X9arhsVPt9jX"
      }
    },
    {
      "cell_type": "code",
      "execution_count": null,
      "metadata": {
        "id": "_y7lDLudrvhc"
      },
      "outputs": [],
      "source": [
        "import pandas as pd\n",
        "from matplotlib import pyplot as plt\n",
        "import numpy as np\n",
        "from sklearn.model_selection import train_test_split\n",
        "from sklearn.preprocessing import LabelEncoder\n",
        "from sklearn.preprocessing import StandardScaler\n",
        "from sklearn.preprocessing import MinMaxScaler\n",
        "from sklearn.linear_model import LinearRegression\n",
        "from sklearn.linear_model import Ridge\n",
        "from sklearn.metrics import mean_squared_error\n",
        "from sklearn.metrics import mean_absolute_error\n",
        "from sklearn.metrics import r2_score\n",
        "from sklearn.tree import DecisionTreeRegressor\n",
        "import seaborn as sns\n",
        "\n",
        "np.random.seed(13)"
      ]
    },
    {
      "cell_type": "markdown",
      "source": [
        "# 2. Analisando os dados"
      ],
      "metadata": {
        "id": "YPKhn_dNuOO0"
      }
    },
    {
      "cell_type": "code",
      "source": [
        "# Ler o arquivo csv usando panda e armazenar o dataframe\n",
        "insurance = pd.read_csv(\"insurance.csv\", parse_dates= True)"
      ],
      "metadata": {
        "id": "Qn74auivuX_C"
      },
      "execution_count": null,
      "outputs": []
    },
    {
      "cell_type": "code",
      "source": [
        "# Visualiza primeiras linhas do dataset com head()\n",
        "insurance.head()"
      ],
      "metadata": {
        "id": "-2t9H3c0uqpp"
      },
      "execution_count": null,
      "outputs": []
    },
    {
      "cell_type": "code",
      "source": [
        "insurance.shape"
      ],
      "metadata": {
        "id": "9yeS1zj21C87"
      },
      "execution_count": null,
      "outputs": []
    },
    {
      "cell_type": "markdown",
      "source": [
        "O dataset tem 1338 linhas e 7 collunas"
      ],
      "metadata": {
        "id": "qg5KaTic1fNb"
      }
    },
    {
      "cell_type": "code",
      "source": [
        "# @title Visualizar alguns dados com info()\n",
        "insurance.info()"
      ],
      "metadata": {
        "id": "G-BE1OUWvTL5"
      },
      "execution_count": null,
      "outputs": []
    },
    {
      "cell_type": "markdown",
      "source": [
        "Não tem nenhuma linha com null.\n",
        "As colunas sex, smoker e region não são numéricas. Precisaremos tratá-las"
      ],
      "metadata": {
        "id": "Suj0rbZO1kUA"
      }
    },
    {
      "cell_type": "code",
      "source": [
        "# @title visualizar o conteúdo da coluna region\n",
        "set(insurance[\"region\"])"
      ],
      "metadata": {
        "id": "p7TaLdOK2VDR"
      },
      "execution_count": null,
      "outputs": []
    },
    {
      "cell_type": "markdown",
      "source": [
        "Temos 4 categorias de region"
      ],
      "metadata": {
        "id": "DQgpzi9z2j4J"
      }
    },
    {
      "cell_type": "code",
      "source": [
        "# @title contar a quantidade de cada region\n",
        "insurance[\"region\"].value_counts()"
      ],
      "metadata": {
        "id": "_p3_OyYX2rhx"
      },
      "execution_count": null,
      "outputs": []
    },
    {
      "cell_type": "code",
      "source": [
        "# @title analisar com describe()\n",
        "insurance.describe()"
      ],
      "metadata": {
        "id": "1istCQYA2_o3"
      },
      "execution_count": null,
      "outputs": []
    },
    {
      "cell_type": "code",
      "source": [
        "# @title Histogramas\n",
        "insurance.hist()"
      ],
      "metadata": {
        "id": "bTrzx0DI3iuC"
      },
      "execution_count": null,
      "outputs": []
    },
    {
      "source": [
        "# @title Histograma da coluna age\n",
        "insurance['age'].plot(kind='hist', bins=20, title='age')\n",
        "plt.gca().spines[['top', 'right',]].set_visible(False)"
      ],
      "cell_type": "code",
      "execution_count": null,
      "outputs": [],
      "metadata": {
        "id": "X2nFmJj0v1oN"
      }
    },
    {
      "source": [
        "# @title Histograma da coluna bmi\n",
        "\n",
        "from matplotlib import pyplot as plt\n",
        "insurance['bmi'].plot(kind='hist', bins=20, title='bmi')\n",
        "plt.gca().spines[['top', 'right',]].set_visible(False)"
      ],
      "cell_type": "code",
      "execution_count": null,
      "outputs": [],
      "metadata": {
        "id": "wOKCYk3DwOzw"
      }
    },
    {
      "source": [
        "# @title histograma da coluna children\n",
        "\n",
        "from matplotlib import pyplot as plt\n",
        "insurance['children'].plot(kind='hist', bins=20, title='children')\n",
        "plt.gca().spines[['top', 'right',]].set_visible(False)"
      ],
      "cell_type": "code",
      "execution_count": null,
      "outputs": [],
      "metadata": {
        "id": "v1ZzQARrwec4"
      }
    },
    {
      "source": [
        "# @title histograma da coluna charges\n",
        "\n",
        "from matplotlib import pyplot as plt\n",
        "insurance['charges'].plot(kind='hist', bins=20, title='charges')\n",
        "plt.gca().spines[['top', 'right',]].set_visible(False)"
      ],
      "cell_type": "code",
      "execution_count": null,
      "outputs": [],
      "metadata": {
        "id": "_DdW1kJWwkLR"
      }
    },
    {
      "source": [
        "# @title divisão dos dados por sexo\n",
        "\n",
        "from matplotlib import pyplot as plt\n",
        "import seaborn as sns\n",
        "insurance.groupby('sex').size().plot(kind='barh', color=sns.palettes.mpl_palette('Dark2'))\n",
        "plt.gca().spines[['top', 'right',]].set_visible(False)"
      ],
      "cell_type": "code",
      "execution_count": null,
      "outputs": [],
      "metadata": {
        "id": "PPlEVmcQwohd"
      }
    },
    {
      "source": [
        "# @title divisão dos dados por smoker\n",
        "\n",
        "from matplotlib import pyplot as plt\n",
        "import seaborn as sns\n",
        "insurance.groupby('smoker').size().plot(kind='barh', color=sns.palettes.mpl_palette('Dark2'))\n",
        "plt.gca().spines[['top', 'right',]].set_visible(False)"
      ],
      "cell_type": "code",
      "execution_count": null,
      "outputs": [],
      "metadata": {
        "id": "I8wnKePSw0tb"
      }
    },
    {
      "source": [
        "# @title divisao por region\n",
        "\n",
        "from matplotlib import pyplot as plt\n",
        "import seaborn as sns\n",
        "insurance.groupby('region').size().plot(kind='barh', color=sns.palettes.mpl_palette('Dark2'))\n",
        "plt.gca().spines[['top', 'right',]].set_visible(False)"
      ],
      "cell_type": "code",
      "execution_count": null,
      "outputs": [],
      "metadata": {
        "id": "8-QvUIrLw95b"
      }
    },
    {
      "source": [
        "# @title Analisar relação entre imc e charges\n",
        "\n",
        "from matplotlib import pyplot as plt\n",
        "insurance.plot(kind='scatter', x='bmi', y='charges', s=32, alpha=.4)\n",
        "plt.gca().spines[['top', 'right',]].set_visible(False)"
      ],
      "cell_type": "code",
      "execution_count": null,
      "outputs": [],
      "metadata": {
        "id": "d6M_BgdPxjRC"
      }
    },
    {
      "source": [
        "# @title Analisar relação entre age vs charges\n",
        "\n",
        "from matplotlib import pyplot as plt\n",
        "insurance.plot(kind='scatter', x='age', y='charges', s=32, alpha=.8)\n",
        "plt.gca().spines[['top', 'right',]].set_visible(False)"
      ],
      "cell_type": "code",
      "execution_count": null,
      "outputs": [],
      "metadata": {
        "id": "o8qXk2LCxu4u"
      }
    },
    {
      "source": [
        "# @title Relação entre sex vs charges com boxplot\n",
        "\n",
        "plt.figure(figsize=(8, 6))\n",
        "sns.boxplot(x='sex', y='charges', data=insurance)\n",
        "plt.xlabel('Sex')\n",
        "plt.ylabel('Charges')\n",
        "plt.title('Box Plot of Charges by Sex')\n",
        "plt.show()"
      ],
      "cell_type": "code",
      "execution_count": null,
      "outputs": [],
      "metadata": {
        "id": "xMuP-Yxh2XJK"
      }
    },
    {
      "source": [
        "# @title Relação entre smoker vs charges com boxplot\n",
        "\n",
        "plt.figure(figsize=(8, 6))\n",
        "sns.boxplot(x='smoker', y='charges', data=insurance)\n",
        "plt.xlabel('Smoker')\n",
        "plt.ylabel('Charges')\n",
        "plt.title('Box Plot of Charges by Smoker')\n",
        "plt.show()"
      ],
      "cell_type": "code",
      "execution_count": null,
      "outputs": [],
      "metadata": {
        "id": "wtC-dvI02I7q"
      }
    },
    {
      "source": [
        "# @title Relação entre region vs charges com boxplot\n",
        "\n",
        "plt.figure(figsize=(8, 6))\n",
        "sns.boxplot(x='region', y='charges', data=insurance)\n",
        "plt.xlabel('Region')\n",
        "plt.ylabel('Charges')\n",
        "plt.title('Box Plot of Charges by Region')\n",
        "plt.show()"
      ],
      "cell_type": "code",
      "execution_count": null,
      "outputs": [],
      "metadata": {
        "id": "dQ-QOq460Lm4"
      }
    },
    {
      "cell_type": "markdown",
      "source": [
        "Indivíduos fumantes geram maior custo"
      ],
      "metadata": {
        "id": "JiBAjRmQziuP"
      }
    },
    {
      "cell_type": "code",
      "source": [
        "# @title Visualização dos dados previstos\n",
        "\n",
        "# Filter data based on sex and smoker\n",
        "male_smoker_df = insurance.loc[\n",
        "    (insurance['sex'] == 'male') & (insurance['smoker'] ==  'yes')\n",
        "]\n",
        "male_non_smoker_df = insurance.loc[\n",
        "    (insurance['sex'] == 'male') & (insurance['smoker'] == 'no')\n",
        "]\n",
        "female_smoker_df = insurance.loc[\n",
        "    (insurance['sex'] == 'female') & (insurance['smoker'] == 'yes')\n",
        "]\n",
        "female_non_smoker_df = insurance.loc[\n",
        "    (insurance['sex'] == 'female') & (insurance['smoker'] == 'no')\n",
        "]\n",
        "\n",
        "# Create the scatter plot\n",
        "plt.figure(figsize=(10, 6))\n",
        "plt.scatter(male_non_smoker_df['age'], male_non_smoker_df['charges'], color='blue', marker='o', alpha=0.3, label='Male (Non-Smoker)')\n",
        "plt.scatter(female_non_smoker_df['age'], female_non_smoker_df['charges'], color='red', marker='o', alpha=0.3, label='Female (Non-Smoker)')\n",
        "plt.scatter(male_smoker_df['age'], male_smoker_df['charges'], color='blue', marker='x',alpha=0.3,  label='Male (Smoker)')\n",
        "plt.scatter(female_smoker_df['age'], female_smoker_df['charges'], color='red', marker='x', alpha=0.3, label='Female (Smoker)')\n",
        "\n",
        "\n",
        "# Set labels and title\n",
        "plt.xlabel('Age')\n",
        "plt.ylabel('Charges')\n",
        "plt.title('Scatter Chart: Age vs. Charges by Sex and Smoker')\n",
        "plt.legend()\n",
        "\n",
        "# Show the plot\n",
        "plt.show()"
      ],
      "metadata": {
        "id": "RS-RlE-zG_Rj"
      },
      "execution_count": null,
      "outputs": []
    },
    {
      "cell_type": "markdown",
      "source": [
        "# Tratamento dos dados"
      ],
      "metadata": {
        "id": "KSRf10KoA6ao"
      }
    },
    {
      "cell_type": "code",
      "source": [
        "# @title tratar colunas sex e smoker como binario usando label encoder\n",
        "label_encoder = LabelEncoder()\n",
        "insurance[\"sex\"] = label_encoder.fit_transform(insurance[\"sex\"])\n",
        "insurance[\"smoker\"] = label_encoder.fit_transform(insurance[\"smoker\"])"
      ],
      "metadata": {
        "id": "cmULqH8EBBAc"
      },
      "execution_count": null,
      "outputs": []
    },
    {
      "cell_type": "code",
      "source": [
        "insurance.head()"
      ],
      "metadata": {
        "id": "8oqAFxakBr-U"
      },
      "execution_count": null,
      "outputs": []
    },
    {
      "cell_type": "code",
      "source": [
        "# @title transformar coluna region com one hot encode\n",
        "dummy_region=pd.get_dummies(insurance['region'], prefix='dummy')\n",
        "insurance_dummy = pd.concat([insurance, dummy_region], axis=1)\n",
        "insurance_dummy.drop([\"region\"], axis=1, inplace=True)"
      ],
      "metadata": {
        "id": "iQ3sFCV1DWf9"
      },
      "execution_count": null,
      "outputs": []
    },
    {
      "cell_type": "code",
      "source": [
        "insurance_dummy.head()"
      ],
      "metadata": {
        "id": "xg1iUHyaEUiM"
      },
      "execution_count": null,
      "outputs": []
    },
    {
      "cell_type": "code",
      "source": [
        "# @title separar dados em x e y\n",
        "input = insurance_dummy[[\"age\",\"sex\",\"bmi\",\"children\",\"smoker\",\"dummy_northeast\",\"dummy_northwest\",\"dummy_southeast\",\"dummy_southwest\"]]\n",
        "output = insurance_dummy[\"charges\"]"
      ],
      "metadata": {
        "id": "FPBer3K2JZYw"
      },
      "execution_count": null,
      "outputs": []
    },
    {
      "cell_type": "code",
      "source": [
        "input.head()"
      ],
      "metadata": {
        "id": "E-vOLM3pJe9T"
      },
      "execution_count": null,
      "outputs": []
    },
    {
      "cell_type": "code",
      "source": [
        "output.head()"
      ],
      "metadata": {
        "id": "I8eTU_pwL6mW"
      },
      "execution_count": null,
      "outputs": []
    },
    {
      "cell_type": "code",
      "source": [
        "# @title Dividir dados em treino e teste\n",
        "x_train, x_test, y_train, y_test = train_test_split(input, output, test_size=0.2, random_state=13)\n"
      ],
      "metadata": {
        "id": "HdsvgaVgNXO2"
      },
      "execution_count": null,
      "outputs": []
    },
    {
      "cell_type": "code",
      "source": [
        "print(len(x_train),\" linhas em treino + \",len(x_test), \" linhas em teste\")"
      ],
      "metadata": {
        "id": "rQejnVuOOHqN"
      },
      "execution_count": null,
      "outputs": []
    },
    {
      "cell_type": "code",
      "source": [
        "# @title aplicar standard scaler em X\n",
        "scaler = StandardScaler()\n",
        "scaler.fit(x_train)\n",
        "x_train_std_scaler = scaler.transform(x_train)\n",
        "x_test_std_scaler = scaler.transform(x_test)"
      ],
      "metadata": {
        "id": "gSgGVIG5Ongx"
      },
      "execution_count": null,
      "outputs": []
    },
    {
      "cell_type": "code",
      "source": [
        "x_train_std_scaler_df = pd.DataFrame(x_train_std_scaler, columns=x_train.columns)\n",
        "x_train_std_scaler_df.head()"
      ],
      "metadata": {
        "id": "Acv5tpoEi-sB"
      },
      "execution_count": null,
      "outputs": []
    },
    {
      "cell_type": "markdown",
      "source": [
        "# Treinar o modelo Linear Regression"
      ],
      "metadata": {
        "id": "nXp86l_SPYAv"
      }
    },
    {
      "cell_type": "code",
      "source": [
        "# @title Aplicar modelo de LinearRegression\n",
        "lin_reg_std_scaler = LinearRegression()\n",
        "lin_reg_std_scaler.fit(x_train_std_scaler, y_train)\n"
      ],
      "metadata": {
        "id": "QdVY0dT2Pa-I"
      },
      "execution_count": null,
      "outputs": []
    },
    {
      "cell_type": "code",
      "source": [
        "# @title predict com LinearRegression\n",
        "y_lin_std_scaler_predito =  lin_reg_std_scaler.predict(x_test_std_scaler)"
      ],
      "metadata": {
        "id": "lTL3QgX3QY02"
      },
      "execution_count": null,
      "outputs": []
    },
    {
      "cell_type": "markdown",
      "source": [],
      "metadata": {
        "id": "D8UkvdtSio4l"
      }
    },
    {
      "cell_type": "markdown",
      "source": [
        "# Avaliar resultados de Linear Regression"
      ],
      "metadata": {
        "id": "UZE8U48KUCr4"
      }
    },
    {
      "cell_type": "code",
      "source": [
        "# calcular mse, rmse, mae, r2 and mape(Mean Absolute Percentage Error)\n",
        "def metrics(test, predito):\n",
        "  mse = mean_squared_error(test, predito)\n",
        "  rmse = np.sqrt(mse)\n",
        "  mae = mean_absolute_error(test, predito)\n",
        "  r2 = r2_score(test, predito)\n",
        "\n",
        "  errors = np.abs(test - predito)\n",
        "  relative_errors = errors / np.abs(test)\n",
        "  mape = np.mean(relative_errors)\n",
        "\n",
        "  print(\"mse:\", mse, \" rmse:\", rmse, \" mae:\", mae, \" r2:\", r2, \" mape:\", mape)"
      ],
      "metadata": {
        "id": "JpRdxAhOUYJn"
      },
      "execution_count": null,
      "outputs": []
    },
    {
      "cell_type": "code",
      "source": [
        "metrics(test=y_test, predito=y_lin_std_scaler_predito)"
      ],
      "metadata": {
        "id": "vK0U8m0yhVKB"
      },
      "execution_count": null,
      "outputs": []
    },
    {
      "cell_type": "markdown",
      "source": [
        "# Testar modelo LinearRegression sem StandardScaler e com MinMaxScaler"
      ],
      "metadata": {
        "id": "A-G8HVTlg6BV"
      }
    },
    {
      "cell_type": "code",
      "source": [
        "# @title Aplicar modelo LinearReegression sem StandardScaler\n",
        "lin_reg = LinearRegression()\n",
        "lin_reg.fit(x_train, y_train)\n",
        "y_lin_predito =  lin_reg.predict(x_test)\n",
        "metrics(test=y_test, predito=y_lin_predito)"
      ],
      "metadata": {
        "id": "uV59uwJ-UeHH"
      },
      "execution_count": null,
      "outputs": []
    },
    {
      "cell_type": "code",
      "source": [
        "# @title Aplicar modelo LinearReegression com MinMaxScaler\n",
        "minMaxScaler = MinMaxScaler()\n",
        "minMaxScaler.fit(x_train)\n",
        "x_train_min_max_scaler = minMaxScaler.transform(x_train)\n",
        "x_test_min_max_scaler = minMaxScaler.transform(x_test)"
      ],
      "metadata": {
        "id": "-ENmCi_ukB_o"
      },
      "execution_count": null,
      "outputs": []
    },
    {
      "cell_type": "code",
      "source": [
        "x_train_min_max_scaler_df = pd.DataFrame(x_train_min_max_scaler, columns=x_train.columns)\n",
        "x_train_min_max_scaler_df.head()"
      ],
      "metadata": {
        "id": "S2Gi4BvWk-qx"
      },
      "execution_count": null,
      "outputs": []
    },
    {
      "cell_type": "code",
      "source": [
        "lin_reg_min_max_scaler = LinearRegression()\n",
        "lin_reg_min_max_scaler.fit(x_train_min_max_scaler, y_train)\n",
        "y_lin_min_max_scaler_predito =  lin_reg_min_max_scaler.predict(x_test_min_max_scaler)\n",
        "metrics(test=y_test, predito=y_lin_min_max_scaler_predito)"
      ],
      "metadata": {
        "id": "eEmofvFMlAo3"
      },
      "execution_count": null,
      "outputs": []
    },
    {
      "cell_type": "markdown",
      "source": [
        "LinearRegression teve resultado ruim sem Scaler ou com StandardScaler ou MinMaxScaler. R2 de 0.79 e mape de 0.41 me parece ruim"
      ],
      "metadata": {
        "id": "ULAh1nSci5fj"
      }
    },
    {
      "cell_type": "markdown",
      "source": [
        "# Aplicar DecisionTreeRegression"
      ],
      "metadata": {
        "id": "zEjcKOdv5mmV"
      }
    },
    {
      "cell_type": "code",
      "source": [
        "dtr = DecisionTreeRegressor(max_depth=9) # testando com depth=9 pois temos 9 features\n",
        "dtr.fit(x_train_min_max_scaler, y_train) # usando input com min_max_scaler, me parece fazer mais sentido ter só dados positivos\n",
        "y_dtr = dtr.predict(x_test_min_max_scaler)\n",
        "metrics(test=y_test, predito=y_dtr)"
      ],
      "metadata": {
        "id": "bN9GzCPelhBN"
      },
      "execution_count": null,
      "outputs": []
    },
    {
      "cell_type": "markdown",
      "source": [
        "Resultado já foi melhor com r2=0.85"
      ],
      "metadata": {
        "id": "s5VCMaDIm92j"
      }
    },
    {
      "cell_type": "markdown",
      "source": [
        "# Experimentando um outro modelo de regressão Ridge"
      ],
      "metadata": {
        "id": "Wo5jKjTWrEZ0"
      }
    },
    {
      "cell_type": "code",
      "source": [
        "ridge = Ridge()\n",
        "ridge.fit(x_train_min_max_scaler, y_train)\n",
        "y_ridge = ridge.predict(x_test_min_max_scaler)\n",
        "metrics(test=y_test, predito=y_ridge)"
      ],
      "metadata": {
        "id": "04KnuK_6rMIv"
      },
      "execution_count": null,
      "outputs": []
    },
    {
      "cell_type": "markdown",
      "source": [
        "Desepenho do Ridge foi pior com r2=0.79"
      ],
      "metadata": {
        "id": "9ydZAtVKtPgj"
      }
    },
    {
      "cell_type": "markdown",
      "source": [
        "# Conclusões\n",
        "\n",
        "Para o dataset explorado, foram testados os modelos LinearRegression, Ridge e DecisionTreeRegressor com o objetivo de prever o custo médicos individuais de um indivíduo com base nas informações fornecidas: idade, sexo, imc, quantidade de filhos, fumante ou não e região em que mora.\n",
        "\n",
        "A análise inicial dos dados indicou uma forte correlação entre a idade e o fato do indivíduo ser fumante ou não com os custos de saúde. Indivíduos mais velhos possuem maior custo assim como indivíduos fumantes possuem maior custo.\n",
        "\n",
        "O modelo DecisionTreeRegressor foi o que apresentou melhor resultado com r2 = 0.85 e é o modelo escolhido"
      ],
      "metadata": {
        "id": "P77Ce0zeye1y"
      }
    },
    {
      "cell_type": "markdown",
      "source": [
        "## Comparando resultado previsto do modelo com dados reais da massa de teste"
      ],
      "metadata": {
        "id": "FmELo8xg8gwi"
      }
    },
    {
      "cell_type": "code",
      "source": [
        "# @title Visualização dos dados de teste\n",
        "\n",
        "# reconstruir um dataframe com x_test, y_test e y_dtr (resultado do predict de DecisionTreeRegressor) para pordermos visualizá-lo\n",
        "results_df = pd.concat([x_test, y_test], axis=1)\n",
        "results_df['charges_predicted'] = y_dtr\n",
        "\n",
        "# Create the scatter plot\n",
        "plt.figure(figsize=(10, 6))\n",
        "plt.scatter(results_df['age'], results_df['charges'], color='red', marker='o', label='Test Data')\n",
        "plt.scatter(results_df['age'], results_df['charges_predicted'], color='blue', marker='x', label='Predicted Result')\n",
        "\n",
        "# Set labels and title\n",
        "plt.xlabel('Age')\n",
        "plt.ylabel('Charges')\n",
        "plt.title('Scatter Chart: Age vs. Charges - Test Data')\n",
        "plt.legend()\n",
        "\n",
        "# Show the plot\n",
        "plt.show()"
      ],
      "metadata": {
        "id": "wOtfpLwNyhHu"
      },
      "execution_count": null,
      "outputs": []
    }
  ]
}